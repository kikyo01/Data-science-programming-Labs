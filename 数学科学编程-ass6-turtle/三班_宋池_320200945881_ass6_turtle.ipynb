{
 "cells": [
  {
   "cell_type": "code",
   "execution_count": 1,
   "metadata": {},
   "outputs": [],
   "source": [
    "import turtle"
   ]
  },
  {
   "cell_type": "markdown",
   "metadata": {},
   "source": [
    "#### 课堂代码\n",
    "蟒蛇"
   ]
  },
  {
   "cell_type": "code",
   "execution_count": 2,
   "metadata": {},
   "outputs": [],
   "source": [
    "\n",
    "turtle.setup(650,350,200,200)\n",
    "turtle.penup()\n",
    "turtle.fd(-250)\n",
    "turtle.pendown()\n",
    "turtle.pensize(25)\n",
    "# turtle.color(\"purple\")\n",
    "turtle.pencolor(\"purple\")\n",
    "turtle.seth(-40)\n",
    "for i in range(4):\n",
    "    turtle.circle(40, 80)\n",
    "    turtle.circle(-40, 80)\n",
    "turtle.circle(40, 80 / 2)\n",
    "turtle.fd(40)\n",
    "turtle.circle(16, 180)\n",
    "turtle.fd(40 * 2 / 3)\n",
    "turtle.done()\n"
   ]
  },
  {
   "cell_type": "markdown",
   "metadata": {},
   "source": [
    "太阳花"
   ]
  },
  {
   "cell_type": "code",
   "execution_count": 7,
   "metadata": {},
   "outputs": [
    {
     "ename": "Terminator",
     "evalue": "",
     "output_type": "error",
     "traceback": [
      "\u001b[1;31m---------------------------------------------------------------------------\u001b[0m",
      "\u001b[1;31mTerminator\u001b[0m                                Traceback (most recent call last)",
      "\u001b[1;32mg:\\学习\\大三上\\数据科学编程2实验\\数学科学编程-ass6-turtle\\三班_宋池_320200945881_ass6_turtle.ipynb Cell 5\u001b[0m in \u001b[0;36m<cell line: 8>\u001b[1;34m()\u001b[0m\n\u001b[0;32m      <a href='vscode-notebook-cell:/g%3A/%E5%AD%A6%E4%B9%A0/%E5%A4%A7%E4%B8%89%E4%B8%8A/%E6%95%B0%E6%8D%AE%E7%A7%91%E5%AD%A6%E7%BC%96%E7%A8%8B2%E5%AE%9E%E9%AA%8C/%E6%95%B0%E5%AD%A6%E7%A7%91%E5%AD%A6%E7%BC%96%E7%A8%8B-ass6-turtle/%E4%B8%89%E7%8F%AD_%E5%AE%8B%E6%B1%A0_320200945881_ass6_turtle.ipynb#W4sZmlsZQ%3D%3D?line=7'>8</a>\u001b[0m \u001b[39mfor\u001b[39;00m _ \u001b[39min\u001b[39;00m \u001b[39mrange\u001b[39m(\u001b[39m50\u001b[39m):\n\u001b[0;32m     <a href='vscode-notebook-cell:/g%3A/%E5%AD%A6%E4%B9%A0/%E5%A4%A7%E4%B8%89%E4%B8%8A/%E6%95%B0%E6%8D%AE%E7%A7%91%E5%AD%A6%E7%BC%96%E7%A8%8B2%E5%AE%9E%E9%AA%8C/%E6%95%B0%E5%AD%A6%E7%A7%91%E5%AD%A6%E7%BC%96%E7%A8%8B-ass6-turtle/%E4%B8%89%E7%8F%AD_%E5%AE%8B%E6%B1%A0_320200945881_ass6_turtle.ipynb#W4sZmlsZQ%3D%3D?line=9'>10</a>\u001b[0m    t\u001b[39m.\u001b[39mforward(\u001b[39m200\u001b[39m) \u001b[39m#移动200\u001b[39;00m\n\u001b[1;32m---> <a href='vscode-notebook-cell:/g%3A/%E5%AD%A6%E4%B9%A0/%E5%A4%A7%E4%B8%89%E4%B8%8A/%E6%95%B0%E6%8D%AE%E7%A7%91%E5%AD%A6%E7%BC%96%E7%A8%8B2%E5%AE%9E%E9%AA%8C/%E6%95%B0%E5%AD%A6%E7%A7%91%E5%AD%A6%E7%BC%96%E7%A8%8B-ass6-turtle/%E4%B8%89%E7%8F%AD_%E5%AE%8B%E6%B1%A0_320200945881_ass6_turtle.ipynb#W4sZmlsZQ%3D%3D?line=11'>12</a>\u001b[0m    t\u001b[39m.\u001b[39;49mleft(\u001b[39m170\u001b[39;49m) \u001b[39m#改变方向\u001b[39;00m\n\u001b[0;32m     <a href='vscode-notebook-cell:/g%3A/%E5%AD%A6%E4%B9%A0/%E5%A4%A7%E4%B8%89%E4%B8%8A/%E6%95%B0%E6%8D%AE%E7%A7%91%E5%AD%A6%E7%BC%96%E7%A8%8B2%E5%AE%9E%E9%AA%8C/%E6%95%B0%E5%AD%A6%E7%A7%91%E5%AD%A6%E7%BC%96%E7%A8%8B-ass6-turtle/%E4%B8%89%E7%8F%AD_%E5%AE%8B%E6%B1%A0_320200945881_ass6_turtle.ipynb#W4sZmlsZQ%3D%3D?line=13'>14</a>\u001b[0m t\u001b[39m.\u001b[39mend_fill()\n",
      "File \u001b[1;32m<string>:5\u001b[0m, in \u001b[0;36mleft\u001b[1;34m(angle)\u001b[0m\n",
      "\u001b[1;31mTerminator\u001b[0m: "
     ]
    }
   ],
   "source": [
    "import turtle as t\n",
    "t.color(\"red\", \"yellow\")#同时设置画笔颜色，填充颜色\n",
    "\n",
    "t.speed(10)\n",
    "\n",
    "t.begin_fill()\n",
    "\n",
    "for _ in range(50):\n",
    "\n",
    "   t.forward(200) #移动200\n",
    "\n",
    "   t.left(170) #改变方向\n",
    "\n",
    "t.end_fill()"
   ]
  },
  {
   "cell_type": "markdown",
   "metadata": {},
   "source": [
    "心形"
   ]
  },
  {
   "cell_type": "code",
   "execution_count": 13,
   "metadata": {},
   "outputs": [],
   "source": [
    "from turtle import *\n",
    "def curvemove():\n",
    "    for i in range(100):\n",
    "        right(2)\n",
    "        forward(2)\n",
    "color('red','pink')\n",
    "begin_fill()\n",
    "left(140)\n",
    "forward(111.65)\n",
    "curvemove()\n",
    "left(120)\n",
    "curvemove()\n",
    "forward(111.65)\n",
    "end_fill()\n",
    "done()"
   ]
  },
  {
   "cell_type": "markdown",
   "metadata": {},
   "source": [
    "时钟"
   ]
  },
  {
   "cell_type": "code",
   "execution_count": 16,
   "metadata": {},
   "outputs": [],
   "source": [
    "import turtle\n",
    "from datetime import *\n",
    "def Skip(step):\n",
    "\tturtle.penup()\n",
    "\tturtle.forward(step)\n",
    "\tturtle.pendown()\n",
    " \n",
    "def mkHand(name, length):\n",
    "\tturtle.reset()\n",
    "\tSkip(-length * 0.1)\n",
    "\tturtle.begin_poly()    \n",
    "\tturtle.forward(length * 1.1)\n",
    "\tturtle.end_poly()\n",
    "\thandForm = turtle.get_poly()\n",
    "\tturtle.register_shape(name, handForm)\n",
    " \n",
    "def Init():    \n",
    "\tglobal secHand, minHand, hurHand, printer\n",
    "\tturtle.mode(\"logo\")\n",
    "\tmkHand(\"secHand\", 135)\n",
    "\tmkHand(\"minHand\", 125)\n",
    "\tmkHand(\"hurHand\", 90)\n",
    "\tsecHand = turtle.Turtle()\n",
    "\tsecHand.shape(\"secHand\")\n",
    "\tminHand = turtle.Turtle()\n",
    "\tminHand.shape(\"minHand\")\n",
    "\thurHand = turtle.Turtle()\n",
    "\thurHand.shape(\"hurHand\")\n",
    " \n",
    "\tfor hand in secHand, minHand, hurHand:\n",
    "\t\thand.shapesize(1, 1, 3)\n",
    "\t\thand.speed(0)\n",
    " \n",
    "\tprinter = turtle.Turtle()    # 隐藏画笔的turtle形状    \n",
    "\tprinter.hideturtle()    \n",
    "\tprinter.penup()    \n",
    " \n",
    "def SetupClock(radius):\n",
    "\tturtle.reset()    \n",
    "\tturtle.pensize(7)    \n",
    "\tfor i in range(60):        \n",
    "\t\tSkip(radius)        \n",
    "\t\tif i % 5 == 0:            \n",
    "\t\t\tturtle.forward(20)            \n",
    "\t\t\tSkip(-radius - 20)                       \n",
    "\t\t\tSkip(radius + 20)            \n",
    "\t\t\tif i == 0:                \n",
    "\t\t\t\tturtle.write(int(12), align=\"center\", font=(\"Courier\", 14, \"bold\"))            \n",
    "\t\t\telif i == 30:                \n",
    "\t\t\t\tSkip(25)                \n",
    "\t\t\t\tturtle.write(int(i/5), align=\"center\", font=(\"Courier\", 14, \"bold\"))                \n",
    "\t\t\t\tSkip(-25)            \n",
    "\t\t\telif (i == 25 or i == 35):                \n",
    "\t\t\t\tSkip(20)                \n",
    "\t\t\t\tturtle.write(int(i/5), align=\"center\", font=(\"Courier\", 14, \"bold\"))                \n",
    "\t\t\t\tSkip(-20)            \n",
    "\t\t\telse:                \n",
    "\t\t\t\tturtle.write(int(i/5), align=\"center\", font=(\"Courier\", 14, \"bold\"))            \n",
    "\t\t\tSkip(-radius - 20)        \n",
    "\t\telse:            \n",
    "\t\t\tturtle.dot(5)            \n",
    "\t\t\tSkip(-radius)        \n",
    "\t\tturtle.right(6)        \n",
    " \n",
    "def Week(t):\n",
    "\tweek = [\"星期一\", \"星期二\", \"星期三\",\n",
    "\t        \"星期四\", \"星期五\", \"星期六\", \"星期日\"]    \n",
    "\treturn week[t.weekday()] \n",
    " \n",
    "def Date(t):    \n",
    "\ty = t.year    \n",
    "\tm = t.month    \n",
    "\td = t.day    \n",
    "\treturn \"%s %d %d\" % (y, m, d) \n",
    " \n",
    "def Tick():\n",
    "\tt = datetime.today()\n",
    "\tsecond = t.second + t.microsecond * 0.000001\n",
    "\tminute = t.minute + second / 60.0    \n",
    "\thour = t.hour + minute / 60.0    \n",
    "\tsecHand.setheading(6 * second)    \n",
    "\tminHand.setheading(6 * minute)    \n",
    "\thurHand.setheading(30 * hour)        \n",
    " \n",
    "\tturtle.tracer(False)     \n",
    "\tprinter.forward(65)    \n",
    "\tprinter.write(Week(t), align=\"center\",\n",
    "\t              font=(\"Courier\", 14, \"bold\"))\n",
    "\tprinter.back(130)    \n",
    "\tprinter.write(Date(t), align=\"center\",\n",
    "\t              font=(\"Courier\", 14, \"bold\"))    \n",
    "\tprinter.home()    \n",
    "\tturtle.tracer(True)\n",
    " \n",
    "\tturtle.ontimer(Tick, 100) \n",
    " \n",
    "def main():\n",
    "\tturtle.tracer(False)    \n",
    "\tInit()\n",
    "\tSetupClock(160)\n",
    "\tturtle.tracer(True)\n",
    "\tTick()    \n",
    "\tturtle.mainloop() \n",
    " \n",
    "if __name__ == \"__main__\":    \n",
    "\tmain()\n"
   ]
  }
 ],
 "metadata": {
  "kernelspec": {
   "display_name": "Python 3.10.4 64-bit",
   "language": "python",
   "name": "python3"
  },
  "language_info": {
   "codemirror_mode": {
    "name": "ipython",
    "version": 3
   },
   "file_extension": ".py",
   "mimetype": "text/x-python",
   "name": "python",
   "nbconvert_exporter": "python",
   "pygments_lexer": "ipython3",
   "version": "3.10.4"
  },
  "orig_nbformat": 4,
  "vscode": {
   "interpreter": {
    "hash": "b41d71cbc0439fc417e86b3956d9a2395873ebcf6bc609714fc9f16f04a567a9"
   }
  }
 },
 "nbformat": 4,
 "nbformat_minor": 2
}
