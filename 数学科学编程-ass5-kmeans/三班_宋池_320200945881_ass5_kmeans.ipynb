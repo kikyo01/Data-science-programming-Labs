{
 "cells": [
  {
   "cell_type": "code",
   "execution_count": 3,
   "metadata": {},
   "outputs": [],
   "source": [
    "from sklearn.cluster import KMeans\n",
    "from numpy import unique\n",
    "from numpy import where\n",
    "import numpy as np\n",
    "import pandas as pd\n",
    "from sklearn.datasets import make_classification\n",
    "from sklearn.cluster import KMeans\n",
    "import matplotlib.pyplot as plt\n"
   ]
  },
  {
   "cell_type": "code",
   "execution_count": 12,
   "metadata": {},
   "outputs": [
    {
     "data": {
      "text/plain": [
       "Index(['SepalLengthCm', 'SepalWidthCm', 'PetalLengthCm', 'PetalWidthCm',\n",
       "       'Species'],\n",
       "      dtype='object')"
      ]
     },
     "execution_count": 12,
     "metadata": {},
     "output_type": "execute_result"
    }
   ],
   "source": [
    "df = pd.read_csv(\"./Iris.csv\")\n",
    "df.columns"
   ]
  },
  {
   "cell_type": "code",
   "execution_count": 20,
   "metadata": {},
   "outputs": [
    {
     "data": {
      "text/html": [
       "<div>\n",
       "<style scoped>\n",
       "    .dataframe tbody tr th:only-of-type {\n",
       "        vertical-align: middle;\n",
       "    }\n",
       "\n",
       "    .dataframe tbody tr th {\n",
       "        vertical-align: top;\n",
       "    }\n",
       "\n",
       "    .dataframe thead th {\n",
       "        text-align: right;\n",
       "    }\n",
       "</style>\n",
       "<table border=\"1\" class=\"dataframe\">\n",
       "  <thead>\n",
       "    <tr style=\"text-align: right;\">\n",
       "      <th></th>\n",
       "      <th>PetalLengthCm</th>\n",
       "      <th>PetalWidthCm</th>\n",
       "      <th>Species</th>\n",
       "    </tr>\n",
       "  </thead>\n",
       "  <tbody>\n",
       "    <tr>\n",
       "      <th>0</th>\n",
       "      <td>1.4</td>\n",
       "      <td>0.2</td>\n",
       "      <td>Iris-setosa</td>\n",
       "    </tr>\n",
       "    <tr>\n",
       "      <th>1</th>\n",
       "      <td>1.4</td>\n",
       "      <td>0.2</td>\n",
       "      <td>Iris-setosa</td>\n",
       "    </tr>\n",
       "    <tr>\n",
       "      <th>2</th>\n",
       "      <td>1.3</td>\n",
       "      <td>0.2</td>\n",
       "      <td>Iris-setosa</td>\n",
       "    </tr>\n",
       "    <tr>\n",
       "      <th>3</th>\n",
       "      <td>1.5</td>\n",
       "      <td>0.2</td>\n",
       "      <td>Iris-setosa</td>\n",
       "    </tr>\n",
       "    <tr>\n",
       "      <th>4</th>\n",
       "      <td>1.4</td>\n",
       "      <td>0.2</td>\n",
       "      <td>Iris-setosa</td>\n",
       "    </tr>\n",
       "    <tr>\n",
       "      <th>...</th>\n",
       "      <td>...</td>\n",
       "      <td>...</td>\n",
       "      <td>...</td>\n",
       "    </tr>\n",
       "    <tr>\n",
       "      <th>145</th>\n",
       "      <td>5.2</td>\n",
       "      <td>2.3</td>\n",
       "      <td>Iris-virginica</td>\n",
       "    </tr>\n",
       "    <tr>\n",
       "      <th>146</th>\n",
       "      <td>5.0</td>\n",
       "      <td>1.9</td>\n",
       "      <td>Iris-virginica</td>\n",
       "    </tr>\n",
       "    <tr>\n",
       "      <th>147</th>\n",
       "      <td>5.2</td>\n",
       "      <td>2.0</td>\n",
       "      <td>Iris-virginica</td>\n",
       "    </tr>\n",
       "    <tr>\n",
       "      <th>148</th>\n",
       "      <td>5.4</td>\n",
       "      <td>2.3</td>\n",
       "      <td>Iris-virginica</td>\n",
       "    </tr>\n",
       "    <tr>\n",
       "      <th>149</th>\n",
       "      <td>5.1</td>\n",
       "      <td>1.8</td>\n",
       "      <td>Iris-virginica</td>\n",
       "    </tr>\n",
       "  </tbody>\n",
       "</table>\n",
       "<p>150 rows × 3 columns</p>\n",
       "</div>"
      ],
      "text/plain": [
       "     PetalLengthCm  PetalWidthCm         Species\n",
       "0              1.4           0.2     Iris-setosa\n",
       "1              1.4           0.2     Iris-setosa\n",
       "2              1.3           0.2     Iris-setosa\n",
       "3              1.5           0.2     Iris-setosa\n",
       "4              1.4           0.2     Iris-setosa\n",
       "..             ...           ...             ...\n",
       "145            5.2           2.3  Iris-virginica\n",
       "146            5.0           1.9  Iris-virginica\n",
       "147            5.2           2.0  Iris-virginica\n",
       "148            5.4           2.3  Iris-virginica\n",
       "149            5.1           1.8  Iris-virginica\n",
       "\n",
       "[150 rows x 3 columns]"
      ]
     },
     "execution_count": 20,
     "metadata": {},
     "output_type": "execute_result"
    }
   ],
   "source": [
    "row_labels = df.index[:]\n",
    "col_labels = df.columns[[2,3,4]]\n",
    "df1 = df.loc[row_labels,col_labels]\n",
    "df1"
   ]
  },
  {
   "cell_type": "code",
   "execution_count": 95,
   "metadata": {},
   "outputs": [
    {
     "data": {
      "text/plain": [
       "0          Iris-setosa\n",
       "50     Iris-versicolor\n",
       "100     Iris-virginica\n",
       "Name: Species, dtype: object"
      ]
     },
     "execution_count": 95,
     "metadata": {},
     "output_type": "execute_result"
    }
   ],
   "source": [
    "df[\"Species\"].drop_duplicates()"
   ]
  },
  {
   "cell_type": "code",
   "execution_count": 26,
   "metadata": {},
   "outputs": [
    {
     "data": {
      "text/plain": [
       "Text(0, 0.5, 'Species')"
      ]
     },
     "execution_count": 26,
     "metadata": {},
     "output_type": "execute_result"
    },
    {
     "data": {
      "image/png": "[encoded data removed]",
      "text/plain": [
       "<Figure size 432x288 with 1 Axes>"
      ]
     },
     "metadata": {
      "needs_background": "light"
     },
     "output_type": "display_data"
    }
   ],
   "source": [
    "import matplotlib.pyplot as plt\n",
    "plt = plt.figure()\n",
    "ax = plt.subplots()\n",
    "x = df1[\"PetalLengthCm\"]\n",
    "y = df1[\"Species\"]\n",
    "ax.scatter(x,y)\n",
    "ax.set_xlabel(\"PetalLengthCm\")\n",
    "ax.set_ylabel(\"Species\")"
   ]
  },
  {
   "cell_type": "code",
   "execution_count": 27,
   "metadata": {},
   "outputs": [
    {
     "data": {
      "text/plain": [
       "Text(0, 0.5, 'Species')"
      ]
     },
     "execution_count": 27,
     "metadata": {},
     "output_type": "execute_result"
    },
    {
     "data": {
      "image/png": "[encoded data removed]",
      "text/plain": [
       "<Figure size 432x288 with 1 Axes>"
      ]
     },
     "metadata": {
      "needs_background": "light"
     },
     "output_type": "display_data"
    }
   ],
   "source": [
    "import matplotlib.pyplot as plt\n",
    "plt = plt.figure()\n",
    "ax = plt.subplots()\n",
    "x = df1[\"PetalWidthCm\"]\n",
    "y = df1[\"Species\"]\n",
    "ax.scatter(x,y)\n",
    "ax.set_xlabel(\"PetalWidthCm\")\n",
    "ax.set_ylabel(\"Species\")"
   ]
  },
  {
   "cell_type": "markdown",
   "metadata": {},
   "source": [
    "要把df数据转为KMeans刻度的数据np.array"
   ]
  },
  {
   "cell_type": "code",
   "execution_count": 78,
   "metadata": {},
   "outputs": [
    {
     "data": {
      "text/plain": [
       "array([[ 1,  2, 10, 20],\n",
       "       [ 3,  4, 30, 40]])"
      ]
     },
     "execution_count": 78,
     "metadata": {},
     "output_type": "execute_result"
    }
   ],
   "source": [
    "arr1 = np.array([[1, 2], [3, 4]])\n",
    "arr2 = np.array([[10, 20], [30, 40]])\n",
    "np.concatenate((arr1, arr2),axis=1)"
   ]
  },
  {
   "cell_type": "code",
   "execution_count": 84,
   "metadata": {},
   "outputs": [
    {
     "data": {
      "text/plain": [
       "(150, 2)"
      ]
     },
     "execution_count": 84,
     "metadata": {},
     "output_type": "execute_result"
    }
   ],
   "source": [
    "data1 = df1.loc[df1.index[:],df1.columns[0]].to_numpy()\n",
    "data2 = df1.loc[df1.index[:],df1.columns[1]].to_numpy()\n",
    "# data = np.array()\n",
    "data = np.array(list(zip(data1,data2)))\n",
    "data.shape"
   ]
  },
  {
   "cell_type": "markdown",
   "metadata": {},
   "source": [
    "现在要用花瓣的长度和宽度来分类150个样本，分成三类，最后要形成三个聚类"
   ]
  },
  {
   "cell_type": "markdown",
   "metadata": {},
   "source": [
    "先画sse k 图"
   ]
  },
  {
   "cell_type": "code",
   "execution_count": 58,
   "metadata": {},
   "outputs": [],
   "source": [
    "# # -*- coding: utf-8 -*-\n",
    "# \"\"\"\n",
    "# K-means-Single-Test\n",
    "# \"\"\"\n",
    "# import matplotlib.pyplot as plt\n",
    "# from sklearn.cluster import KMeans\n",
    "# from tools.preprocess import *\n",
    "# from tools.visualizer import plot_result\n",
    "# from sklearn.feature_extraction.text import TfidfTransformer, TfidfVectorizer, CountVectorizer\n",
    "# from sklearn.decomposition import PCA, TruncatedSVD\n",
    "# from tools.labelText import LabelText\n",
    "# import settings\n",
    "# import time\n",
    "# import pandas as pd\n",
    "# from sklearn import metrics\n",
    " \n",
    "# \"\"\"\n",
    "# loading source\n",
    "# 载入资源\n",
    "# \"\"\"\n",
    "# print('------Loading Source...')\n",
    "# ori_path = settings.SOURCE_DATA + 'goods_data.csv'\n",
    "# # sentences = loading_source(file_name=ori_path)\n",
    "# sentences = []\n",
    "# # content_lines = loading_source(file_name=ori_path)\n",
    "# # ori_path = settings.SOURCE_DATA + 'cut_data.csv'\n",
    "# sentences = loading_source(file_name=ori_path)\n",
    "# # start = time.time()\n",
    "# # cut_source(content_lines, sentences, write=True)\n",
    "# # end = time.time()\n",
    "# # print('------- cutting cost', end - start)\n",
    " \n",
    " \n",
    "# \"\"\"\n",
    "# Compute K-Means\n",
    "# \"\"\"\n",
    " \n",
    "# numOfClass: int = 10\n",
    "# SSE = []  # 存放每次结果的误差平方和\n",
    "# for i in range(20,300,20):\n",
    "#     start = time.time()\n",
    "#     clf = KMeans(n_clusters=i, max_iter=10000, init=\"k-means++\", tol=1e-6)\n",
    " \n",
    "#     result = clf.fit(trainingData)\n",
    "#     end = time.time()\n",
    "#     print(\"n_cluster is \",i,\" time is\",end-start)\n",
    "#     SSE.append(clf.inertia_)\n",
    "# X = range(20,300,20)\n",
    "# plt.xlabel('k')\n",
    "# plt.ylabel('SSE')\n",
    "# plt.plot(X, SSE, 'o-')\n",
    "# plt.savefig('sse.png')"
   ]
  },
  {
   "cell_type": "code",
   "execution_count": 100,
   "metadata": {},
   "outputs": [
    {
     "data": {
      "text/plain": [
       "<matplotlib.collections.PathCollection at 0x22d8102dd80>"
      ]
     },
     "execution_count": 100,
     "metadata": {},
     "output_type": "execute_result"
    },
    {
     "data": {
      "image/png": "[encoded data removed]",
      "text/plain": [
       "<Figure size 432x288 with 1 Axes>"
      ]
     },
     "metadata": {
      "needs_background": "light"
     },
     "output_type": "display_data"
    }
   ],
   "source": [
    "import matplotlib.pyplot as plt\n",
    "k = 3\n",
    "model = KMeans(k)\n",
    "model.fit(data)\n",
    "yhat = model.predict(data)\n",
    "clusters = unique(yhat)\n",
    "plt.scatter(data[:,0],data[:,1],c=yhat)\n"
   ]
  },
  {
   "cell_type": "code",
   "execution_count": 103,
   "metadata": {},
   "outputs": [
    {
     "data": {
      "text/plain": [
       "<matplotlib.collections.PathCollection at 0x22d83829990>"
      ]
     },
     "execution_count": 103,
     "metadata": {},
     "output_type": "execute_result"
    },
    {
     "data": {
      "image/png": "[encoded data removed]",
      "text/plain": [
       "<Figure size 432x288 with 1 Axes>"
      ]
     },
     "metadata": {
      "needs_background": "light"
     },
     "output_type": "display_data"
    }
   ],
   "source": [
    "import matplotlib.pyplot as plt\n",
    "c = df[\"Species\"].to_numpy()\n",
    "plt.scatter(data[:,0],data[:,1],c=yhat)\n"
   ]
  },
  {
   "cell_type": "markdown",
   "metadata": {},
   "source": [
    "一模一样！！！！"
   ]
  },
  {
   "cell_type": "markdown",
   "metadata": {},
   "source": [
    "画一个sse k 图"
   ]
  },
  {
   "cell_type": "code",
   "execution_count": 120,
   "metadata": {},
   "outputs": [],
   "source": [
    "c = model.cluster_centers_"
   ]
  },
  {
   "cell_type": "code",
   "execution_count": 138,
   "metadata": {},
   "outputs": [
    {
     "data": {
      "text/plain": [
       "array([[3.75866667, 1.19866667]])"
      ]
     },
     "execution_count": 138,
     "metadata": {},
     "output_type": "execute_result"
    }
   ],
   "source": [
    "c"
   ]
  },
  {
   "cell_type": "code",
   "execution_count": 140,
   "metadata": {},
   "outputs": [
    {
     "data": {
      "text/plain": [
       "array([86.40394534, 31.38775897, 19.48238901, 14.09372176, 11.10362366,\n",
       "        9.22580873,  7.63789697,  6.58757685,  5.58979245,  5.14326677,\n",
       "        4.76748077,  4.37359199,  4.06116044,  3.5982234 ,  3.28428932,\n",
       "        3.08647609,  3.01715192,  2.70158694])"
      ]
     },
     "execution_count": 140,
     "metadata": {},
     "output_type": "execute_result"
    },
    {
     "data": {
      "image/png": "[encoded data removed]",
      "text/plain": [
       "<Figure size 432x288 with 1 Axes>"
      ]
     },
     "metadata": {
      "needs_background": "light"
     },
     "output_type": "display_data"
    }
   ],
   "source": [
    "def zhoubu(x):\n",
    "    #x代表需要聚类数据的坐标\n",
    "    import numpy as np\n",
    "    from sklearn.cluster import KMeans\n",
    "    import matplotlib.pyplot as plt#导入库\n",
    "    Sum=np.zeros(18)#Sum用于储存肘部法则判断指标\n",
    "    for i in range(2,20):\n",
    "        kmeans=KMeans(n_clusters=i).fit(x)#kmeans算法拟合\n",
    "        m=kmeans.labels_#取出分类得出的标签\n",
    "        c=kmeans.cluster_centers_#取出每个分类中心\n",
    "        for j in range(len(x)):\n",
    "            c1=c[m[j]]#第j个样本所属类的中心\n",
    "            x1=x[j]#第j个样本的坐标\n",
    "            Sum[i-2]=Sum[i-2]+sum((x1-c1)**2)#计算判断指标\n",
    "    c=plt.plot(np.arange(2,20),Sum )\n",
    "    plt.xticks(np.arange(2,20))#绘图\n",
    "    return Sum\n",
    "zhoubu(data)\n"
   ]
  },
  {
   "cell_type": "markdown",
   "metadata": {},
   "source": [
    "由手肘图知，k=3较好"
   ]
  }
 ],
 "metadata": {
  "kernelspec": {
   "display_name": "Python 3.10.4 64-bit",
   "language": "python",
   "name": "python3"
  },
  "language_info": {
   "codemirror_mode": {
    "name": "ipython",
    "version": 3
   },
   "file_extension": ".py",
   "mimetype": "text/x-python",
   "name": "python",
   "nbconvert_exporter": "python",
   "pygments_lexer": "ipython3",
   "version": "3.10.4"
  },
  "orig_nbformat": 4,
  "vscode": {
   "interpreter": {
    "hash": "b41d71cbc0439fc417e86b3956d9a2395873ebcf6bc609714fc9f16f04a567a9"
   }
  }
 },
 "nbformat": 4,
 "nbformat_minor": 2
}
